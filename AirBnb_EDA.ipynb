{
  "cells": [
    {
      "cell_type": "markdown",
      "metadata": {
        "id": "view-in-github",
        "colab_type": "text"
      },
      "source": [
        "<a href=\"https://colab.research.google.com/github/altaf1444/Capstone_EDA_Project/blob/main/AirBnb_EDA.ipynb\" target=\"_parent\"><img src=\"https://colab.research.google.com/assets/colab-badge.svg\" alt=\"Open In Colab\"/></a>"
      ]
    },
    {
      "cell_type": "markdown",
      "metadata": {
        "id": "vncDsAP0Gaoa"
      },
      "source": [
        "# **Project - AirBnb Booking Analysis**\n",
        "\n"
      ]
    },
    {
      "cell_type": "markdown",
      "metadata": {
        "id": "beRrZCGUAJYm"
      },
      "source": [
        "##### **Project Type**    - ***EDA***\n",
        "##### **Contribution**    - ***Team***\n",
        "##### **Team Member 1 -**  ***Altaf Shaikh***\n",
        "##### **Team Member 2 -**  ***Priti Singh***\n"
      ]
    },
    {
      "cell_type": "markdown",
      "metadata": {
        "id": "FJNUwmbgGyua"
      },
      "source": [
        "# **Project Summary**"
      ]
    },
    {
      "cell_type": "markdown",
      "metadata": {
        "id": "F6v_1wHtG2nS"
      },
      "source": [
        "\n",
        "![Airbnb-Voucher-Code-WSJ.png](data:image/png;base64,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)\n",
        "* The purpose of the analysis: Understanding the factors that influence Airbnb prices in New York City, or identifying patterns of all variables and Our analysis provides useful information for travelers and hosts in the city and also provides some best insights for Airbnb business.\n",
        "\n",
        "* This project involved exploring and cleaning a dataset to prepare it for analysis. The data exploration process involved identifying and understanding the characteristics of the data, such as the data types, missing values, and distributions of values. The data cleaning process involved identifying and addressing any issues or inconsistencies in the data, such as errors, missing values, or duplicate records and remove outliers.\n",
        "\n",
        "* Through this process, we were able to identify and fix any issues with the data, and ensure that it was ready for further analysis. This is an important step in any data analysis project, as it allows us to work with high-quality data and avoid any potential biases or errors that could affect the results. The clean and prepared data can now be used to answer specific research.\n",
        "\n",
        "* Once the data has been cleaned and prepared, now begin exploring and summarizing it with describe the data and creating visualizations, and identifying patterns and trends in the data. in explore the data, may develop the relationships between different variables or the underlying causes of certain patterns or trends and other methods.\n",
        "\n",
        "* Using data visualization to explore and understand patterns in Airbnb data. We created various graphs and charts to visualize the data, and wrote observations and insights below each one to help us better understand the data and identify useful insights and patterns.\n",
        "\n",
        "* Through this process, we were able to uncover trends and relationships in the data that would have been difficult to identify through raw data alone, for example factors affecting prices and availability. We found that minimum nights, number of reviews, and host listing count are important for determining prices, and that availability varies significantly across neighborhoods. Our analysis provides useful information for travelers and hosts in the city.\n",
        "\n",
        "* The observations and insights we identified through this process will be useful for future analysis and decision-making related to Airbnb. and also Our analysis provides useful information for travelers and hosts in the city.\n",
        "\n",
        "\n",
        "\n",
        "\n",
        "\n",
        "\n",
        "\n",
        "\n",
        "\n",
        "\n",
        "\n",
        "\n",
        "\n",
        "\n"
      ]
    },
    {
      "cell_type": "markdown",
      "metadata": {
        "id": "w6K7xa23Elo4"
      },
      "source": [
        "# **GitHub Link -**"
      ]
    },
    {
      "cell_type": "markdown",
      "metadata": {
        "id": "h1o69JH3Eqqn"
      },
      "source": [
        "https://github.com/altaf1444/Capstone_EDA_Project.git"
      ]
    },
    {
      "cell_type": "markdown",
      "metadata": {
        "id": "yQaldy8SH6Dl"
      },
      "source": [
        "# **Problem Statement**\n"
      ]
    },
    {
      "cell_type": "markdown",
      "metadata": {
        "id": "DpeJGUA3kjGy"
      },
      "source": [
        "1. What are the most popular neighborhoods for Airbnb rentals in New York City?\n",
        "How do prices and availability vary by neighborhood?\n",
        "\n",
        "2. How has the Airbnb market in New York City changed over time? Have there been any significant trends in terms of the number of listings, prices, or occupancy rates?\n",
        "\n",
        "3. Are there any patterns or trends in terms of the types of properties that are being rented out on Airbnb in New York City? Are certain types of properties more popular or more expensive than others?\n",
        "\n",
        "4. Are there any factors that seem to be correlated with the prices of Airbnb rentals in New York City?\n",
        "\n",
        "5. The best area in New York City for a host to buy property at a good price rate and in an area with high traffic ?\n",
        "\n",
        "6. How do the lengths of stay for Airbnb rentals in New York City vary by neighborhood? Do certain neighborhoods tend to attract longer or shorter stays?\n",
        "\n",
        "7. How do the ratings of Airbnb rentals in New York City compare to their prices? Are higher-priced rentals more likely to have higher ratings?\n",
        "\n",
        "8. Find the total numbers of Reviews and Maximum Reviews by Each Neighborhood Group.\n",
        "\n",
        "9. Find Most reviewed room type in Neighborhood groups per month.\n",
        "\n",
        "10. Find Best location listing/property location for travelers.\n",
        "\n",
        "11. Find also best location listing/property location for Hosts.\n",
        "\n",
        "12. Find Price variations in NYC Neighborhood groups.\n"
      ]
    },
    {
      "cell_type": "markdown",
      "metadata": {
        "id": "O_i_v8NEhb9l"
      },
      "source": [
        "# ***Let's Begin !***"
      ]
    },
    {
      "cell_type": "markdown",
      "metadata": {
        "id": "HhfV-JJviCcP"
      },
      "source": [
        "## ***1. Know Your Data***"
      ]
    },
    {
      "cell_type": "markdown",
      "metadata": {
        "id": "Y3lxredqlCYt"
      },
      "source": [
        "### Import Libraries"
      ]
    },
    {
      "cell_type": "code",
      "execution_count": null,
      "metadata": {
        "id": "M8Vqi-pPk-HR"
      },
      "outputs": [],
      "source": [
        "import pandas as pd\n",
        "import numpy as np\n",
        "import matplotlib.pyplot as plt\n",
        "%matplotlib inline\n",
        "import seaborn as sns"
      ]
    },
    {
      "cell_type": "markdown",
      "metadata": {
        "id": "3RnN4peoiCZX"
      },
      "source": [
        "### Dataset Loading"
      ]
    },
    {
      "cell_type": "code",
      "execution_count": null,
      "metadata": {
        "id": "4CkvbW_SlZ_R"
      },
      "outputs": [],
      "source": [
        "from google.colab import drive\n",
        "drive.mount('/content/drive/')"
      ]
    },
    {
      "cell_type": "code",
      "source": [
        "Airbnb_data = pd.read_csv('/content/drive/My Drive/Project-1/Airbnb NYC 2019.csv')"
      ],
      "metadata": {
        "id": "m1KOSeXNzTUz"
      },
      "execution_count": null,
      "outputs": []
    },
    {
      "cell_type": "markdown",
      "metadata": {
        "id": "x71ZqKXriCWQ"
      },
      "source": [
        "### Dataset First View"
      ]
    },
    {
      "cell_type": "code",
      "execution_count": null,
      "metadata": {
        "id": "LWNFOSvLl09H"
      },
      "outputs": [],
      "source": [
        "Airbnb_data.head(10)\n"
      ]
    },
    {
      "cell_type": "code",
      "source": [
        "Airbnb_data.tail(10)"
      ],
      "metadata": {
        "id": "R1LkiF9v1tTO"
      },
      "execution_count": null,
      "outputs": []
    },
    {
      "cell_type": "markdown",
      "metadata": {
        "id": "7hBIi_osiCS2"
      },
      "source": [
        "### Dataset Rows & Columns count"
      ]
    },
    {
      "cell_type": "code",
      "execution_count": null,
      "metadata": {
        "id": "Kllu7SJgmLij"
      },
      "outputs": [],
      "source": [
        "num_rows, num_columns = Airbnb_data.shape\n",
        "print(f\"Number of rows: {num_rows}\")\n",
        "print(f\"Number of columns: {num_columns}\")"
      ]
    },
    {
      "cell_type": "markdown",
      "source": [
        "**There are 48895 rows & 16 columns in AirBnb data set**"
      ],
      "metadata": {
        "id": "zN_lvuoI7uwm"
      }
    },
    {
      "cell_type": "markdown",
      "metadata": {
        "id": "JlHwYmJAmNHm"
      },
      "source": [
        "### Dataset Information"
      ]
    },
    {
      "cell_type": "code",
      "execution_count": null,
      "metadata": {
        "id": "e9hRXRi6meOf"
      },
      "outputs": [],
      "source": [
        "Airbnb_data.info()"
      ]
    },
    {
      "cell_type": "markdown",
      "source": [
        "**From the above info we found that host_name, neighbourhood_group, neighbourhood and room_type fall into categorical variable category.**\n",
        "\n",
        "**While host_id, latitude, longitude, price, minimum_nights, number_of_reviews, last_review, reviews_per_month, host_listings_count, availability_365 are numerical variables**"
      ],
      "metadata": {
        "id": "ziHZdqnz61mP"
      }
    },
    {
      "cell_type": "markdown",
      "metadata": {
        "id": "35m5QtbWiB9F"
      },
      "source": [
        "#### Duplicate Values"
      ]
    },
    {
      "cell_type": "code",
      "execution_count": null,
      "metadata": {
        "id": "1sLdpKYkmox0"
      },
      "outputs": [],
      "source": [
        "dup_val_count = Airbnb_data.duplicated().value_counts()\n",
        "dup_val_count"
      ]
    },
    {
      "cell_type": "markdown",
      "source": [
        "**The above result: False means there were no duplicate values in 48895 rows**"
      ],
      "metadata": {
        "id": "QNM2JCyQ51GZ"
      }
    },
    {
      "cell_type": "markdown",
      "metadata": {
        "id": "PoPl-ycgm1ru"
      },
      "source": [
        "#### Missing Values/Null Values"
      ]
    },
    {
      "cell_type": "code",
      "execution_count": null,
      "metadata": {
        "id": "GgHWkxvamxVg"
      },
      "outputs": [],
      "source": [
        "missing_values_count = Airbnb_data.isnull().sum()\n",
        "missing_values_count"
      ]
    },
    {
      "cell_type": "code",
      "execution_count": null,
      "metadata": {
        "id": "3q5wnI3om9sJ"
      },
      "outputs": [],
      "source": [
        "plt.figure(figsize=(10,6))\n",
        "missing_values_count.plot(kind = 'bar',color = 'red' )\n",
        "plt.title('Missing Values by Column')\n",
        "plt.xlabel('Columns', color = 'red', size = 15)\n",
        "plt.ylabel('Count of Missing Values', color = 'red', size = 15)\n",
        "plt.xticks(rotation=75)\n",
        "plt.show()"
      ]
    },
    {
      "cell_type": "markdown",
      "source": [
        "From the above bar plot we can clearly see :\n",
        "\n",
        "There are **16** values in **name** & **21** values in **host_id** columns.\n",
        "\n",
        "The major missing values are in **last_review** & **reviews_per_month** viz. **10052** each."
      ],
      "metadata": {
        "id": "ZFHTNS0bEzCh"
      }
    },
    {
      "cell_type": "markdown",
      "metadata": {
        "id": "H0kj-8xxnORC"
      },
      "source": [
        "### What did you know about your dataset?"
      ]
    },
    {
      "cell_type": "markdown",
      "metadata": {
        "id": "gfoNAAC-nUe_"
      },
      "source": [
        "**1.** This Airbnb dataset contains 48895 rows with 16 columns of booking data of the AirBnb's in New York.\n",
        "\n",
        "**2.** The Data includes both categorical and numeric values, providing a diverse range of information about the listings.\n",
        "\n",
        "**3.** This Dataset may be useful for analyzing trends and patterns in the Airbnb market in New York and also gain insights into the preferences and behavior of Airbnb users in the area.\n",
        "\n",
        "**4.** Based on the findings till now it can be concluded that the Airbnb dataset gives a glimpse of the kind of the data that can be fetched.\n",
        "\n",
        "**5.** We can have a clear idea from the dataset, what kind of information is stored, how many rows and columns are there, how many null values are there etc.\n",
        "\n",
        "**6.** Many columns in dataset hold null values. We have tried to find the null values in each column, last_review and reviews_per_month column having the most no.of nulls whereas name and hostname column having the least.\n",
        "\n",
        "**7.** **last_review** and **reviews_per_month** column has NaN in the same rows stating that these 2 columns share some sort of correlation. Moreover **last_review** column is not important as much as **reviews_per_month** column, so we can drop it and fill NaN in **reviews_per_month** with 0.\n",
        "\n",
        "**8.** NaN in name and host_name column are very less in number hence we can replace it with unknown in both the columns.\n",
        "\n",
        "**9.** As data cleaning requires replacing null values but replacing null values can sometime mislead the dataset.\n",
        "So, it must be worked upon cautiously only were its required."
      ]
    },
    {
      "cell_type": "markdown",
      "metadata": {
        "id": "nA9Y7ga8ng1Z"
      },
      "source": [
        "## ***2. Understanding Your Variables***"
      ]
    },
    {
      "cell_type": "code",
      "execution_count": null,
      "metadata": {
        "id": "j7xfkqrt5Ag5"
      },
      "outputs": [],
      "source": [
        "Airbnb_data.columns"
      ]
    },
    {
      "cell_type": "code",
      "execution_count": null,
      "metadata": {
        "id": "DnOaZdaE5Q5t"
      },
      "outputs": [],
      "source": [
        "Airbnb_data.describe()"
      ]
    },
    {
      "cell_type": "markdown",
      "metadata": {
        "id": "PBTbrJXOngz2"
      },
      "source": [
        "### Variables Description"
      ]
    },
    {
      "cell_type": "markdown",
      "metadata": {
        "id": "aJV4KIxSnxay"
      },
      "source": [
        "**Variable list :**\n",
        "\n",
        "**id** :- This is a unique identifier for each listing in the dataset.\n",
        "\n",
        "**name** :- This is the name or title of the listing, as it appears on the Airbnb website.\n",
        "\n",
        "**host_id** :- This is a unique identifier for each host in the dataset.\n",
        "\n",
        "**host_name** :- This is the name of the host as it appears on the Airbnb website.\n",
        "\n",
        "**neighbourhood_group** :- This is a grouping of neighborhoods in New York City, such as Manhattan or Brooklyn.\n",
        "\n",
        "**neighbourhood** :- This is the specific neighborhood in which the listing is located.\n",
        "\n",
        "**latitude** :- This is the geographic latitude of the listing.\n",
        "\n",
        "**longitude** :- This is the geographic longitude of the listing.\n",
        "\n",
        "**room_type** :- This is the type of room or property being offered, such as an entire home, private room, shared room.\n",
        "\n",
        "**price** :- This is the nightly price for the listing, in US dollars.\n",
        "\n",
        "**minimum_nights** :- This is the minimum number of nights that a guest must stay at the listing.\n",
        "\n",
        "**total_reviews** :- This is the total number of reviews that the listing has received.\n",
        "\n",
        "**reviews_per_month** :- This is the average number of reviews that the listing receives per month.\n",
        "\n",
        "**calculated_host_listings_count** :- This is the total number of listings that the host has on Airbnb.\n",
        "\n",
        "**availability_365** :- This is the number of days in the next 365 days that the listing is available for booking."
      ]
    },
    {
      "cell_type": "markdown",
      "metadata": {
        "id": "u3PMJOP6ngxN"
      },
      "source": [
        "### Check Unique Values for each variable."
      ]
    },
    {
      "cell_type": "code",
      "execution_count": null,
      "metadata": {
        "id": "zms12Yq5n-jE"
      },
      "outputs": [],
      "source": [
        "print(\"Unique values in ['id']                             :\", Airbnb_data[\"id\"].nunique())\n",
        "print(\"Unique values in ['host_id']                        :\", Airbnb_data[\"host_id\"].nunique())\n",
        "print(\"Unique values in [latitude']                        :\", Airbnb_data[\"latitude\"].nunique())\n",
        "print(\"Unique values in ['longitude']                      :\", Airbnb_data[\"longitude\"].nunique())\n",
        "print(\"Unique values in ['price']                          :\", Airbnb_data[\"price\"].nunique())\n",
        "print(\"Unique values in ['minimum_nights']                 :\", Airbnb_data[\"minimum_nights\"].nunique())\n",
        "print(\"Unique values in ['number_of_reviews']              :\", Airbnb_data[\"number_of_reviews\"].nunique())\n",
        "print(\"Unique values in ['reviews_per_month']              :\", Airbnb_data[\"reviews_per_month\"].nunique())\n",
        "print(\"Unique values in ['calculated_host_listings_count'] :\", Airbnb_data[\"calculated_host_listings_count\"].nunique())\n",
        "print(\"Unique values in ['availability_365']               :\", Airbnb_data[\"availability_365\"].nunique())\n",
        "\n"
      ]
    },
    {
      "cell_type": "markdown",
      "metadata": {
        "id": "dauF4eBmngu3"
      },
      "source": [
        "## 3. ***Data Wrangling***"
      ]
    },
    {
      "cell_type": "markdown",
      "metadata": {
        "id": "bKJF3rekwFvQ"
      },
      "source": [
        "### Data Wrangling Code"
      ]
    },
    {
      "cell_type": "code",
      "execution_count": null,
      "metadata": {
        "id": "wk-9a2fpoLcV"
      },
      "outputs": [],
      "source": [
        "# removes duplicate rows if any\n",
        "Airbnb_data.drop_duplicates(inplace=True)\n",
        "\n",
        "# filling all NaN with 0 since we don't have any review in few of the months\n",
        "Airbnb_data.fillna({'reviews_per_month':0}, inplace=True)\n",
        "\n",
        "# droping off this column as it has many null values and not it's not required\n",
        "Airbnb_data.drop(\"last_review\", axis=1, inplace=True)\n",
        "\n",
        "# replacing NaN with \"unknown\" in both \"name\" & \"host_name\" columns\n",
        "Airbnb_data[\"name\"].fillna(\"unknown\", inplace=True)\n",
        "\n",
        "Airbnb_data[\"host_name\"].fillna(\"unknown\", inplace=True)\n",
        "\n",
        "# calculating the mean price\n",
        "mean_price = Airbnb_data[\"price\"].mean()\n",
        "\n",
        "#replace price 0 with mean value\n",
        "Airbnb_data.replace(0, mean_price, inplace=True)\n",
        "\n",
        "Airbnb_data.isna().sum()"
      ]
    },
    {
      "cell_type": "code",
      "source": [
        "Airbnb_data.shape"
      ],
      "metadata": {
        "id": "NMvrdQZiP9pZ"
      },
      "execution_count": null,
      "outputs": []
    },
    {
      "cell_type": "markdown",
      "source": [
        "**As we can see in the above output, null values has been replaced**"
      ],
      "metadata": {
        "id": "b8On2t4eQLRs"
      }
    },
    {
      "cell_type": "markdown",
      "metadata": {
        "id": "MSa1f5Uengrz"
      },
      "source": [
        "### What all manipulations have you done and insights you found?"
      ]
    },
    {
      "cell_type": "markdown",
      "metadata": {
        "id": "LbyXE7I1olp8"
      },
      "source": [
        "* We have done data wrangling on the previous dataset provided which had some missing values.\n",
        "* As we initiated drop_duplicates() method but didn't find any duplicate values in the dataset.\n",
        "* Then we performed isnull() to find null values and concluded that we have 4 columns with some null values.\n",
        "* For name and host_name column replaced NaN with unknown as null values are very less in number. We could have dropped the columns but it would then remove some meaningful data as well.\n",
        "* We then replaced the null values in reviews_per_month column with 0 as it didn't impact the meaning of dataset.\n",
        "* Since last_review has numerous null values and the info contained in it is almost there in reviews_per_momth column, so we dropped it off.\n",
        "* We made changes in \"price\" column, since property can't be available at 0 price. So, we replaced all price 0 with mean price value.\n",
        "\n"
      ]
    },
    {
      "cell_type": "markdown",
      "metadata": {
        "id": "GF8Ens_Soomf"
      },
      "source": [
        "## ***4. Data Vizualization, Storytelling & Experimenting with charts : Understand the relationships between variables***"
      ]
    },
    {
      "cell_type": "markdown",
      "metadata": {
        "id": "0wOQAZs5pc--"
      },
      "source": [
        "#### Chart - 1 >> Most Booked Properties [Top 5]"
      ]
    },
    {
      "cell_type": "code",
      "execution_count": null,
      "metadata": {
        "id": "7v_ESjsspbW7"
      },
      "outputs": [],
      "source": [
        "hotel_name = Airbnb_data[\"neighbourhood_group\"].value_counts().head(5)\n",
        "hotel_name\n",
        "\n",
        "colors = ['orange','violet','red','green','blue']\n",
        "\n",
        "plt.bar(hotel_name.index, hotel_name.values, color=colors, edgecolor = 'black' )\n",
        "plt.title(\"Top 5 Most booked Neighbourhood\", fontsize = 15, color = 'r')\n",
        "plt.xlabel(\"Neighbourhood Group\", fontsize = 15, color = 'r')\n",
        "plt.ylabel(\"Number of Bookings\", fontsize = 15, color = 'r')\n",
        "plt.show()"
      ]
    },
    {
      "cell_type": "markdown",
      "metadata": {
        "id": "K5QZ13OEpz2H"
      },
      "source": [
        "##### 1. Why did you pick the specific chart?"
      ]
    },
    {
      "cell_type": "markdown",
      "metadata": {
        "id": "XESiWehPqBRc"
      },
      "source": [
        "We picked bar plot to describe this data because it can describe the most booked neighbourhood data in a very discrete manner."
      ]
    },
    {
      "cell_type": "markdown",
      "metadata": {
        "id": "lQ7QKXXCp7Bj"
      },
      "source": [
        "##### 2. What is/are the insight(s) found from the chart?"
      ]
    },
    {
      "cell_type": "markdown",
      "metadata": {
        "id": "C_j1G7yiqdRP"
      },
      "source": [
        "Answer Here"
      ]
    },
    {
      "cell_type": "markdown",
      "metadata": {
        "id": "448CDAPjqfQr"
      },
      "source": [
        "##### 3. Will the gained insights help creating a positive business impact?\n",
        "Are there any insights that lead to negative growth? Justify with specific reason."
      ]
    },
    {
      "cell_type": "markdown",
      "metadata": {
        "id": "3cspy4FjqxJW"
      },
      "source": [
        "Answer Here"
      ]
    },
    {
      "cell_type": "markdown",
      "metadata": {
        "id": "KSlN3yHqYklG"
      },
      "source": [
        "#### Chart - 2"
      ]
    },
    {
      "cell_type": "code",
      "execution_count": null,
      "metadata": {
        "id": "R4YgtaqtYklH"
      },
      "outputs": [],
      "source": [
        "# Chart - 2 visualization code"
      ]
    },
    {
      "cell_type": "markdown",
      "metadata": {
        "id": "t6dVpIINYklI"
      },
      "source": [
        "##### 1. Why did you pick the specific chart?"
      ]
    },
    {
      "cell_type": "markdown",
      "metadata": {
        "id": "5aaW0BYyYklI"
      },
      "source": [
        "Answer Here."
      ]
    },
    {
      "cell_type": "markdown",
      "metadata": {
        "id": "ijmpgYnKYklI"
      },
      "source": [
        "##### 2. What is/are the insight(s) found from the chart?"
      ]
    },
    {
      "cell_type": "markdown",
      "metadata": {
        "id": "PSx9atu2YklI"
      },
      "source": [
        "Answer Here"
      ]
    },
    {
      "cell_type": "markdown",
      "metadata": {
        "id": "-JiQyfWJYklI"
      },
      "source": [
        "##### 3. Will the gained insights help creating a positive business impact?\n",
        "Are there any insights that lead to negative growth? Justify with specific reason."
      ]
    },
    {
      "cell_type": "markdown",
      "metadata": {
        "id": "BcBbebzrYklV"
      },
      "source": [
        "Answer Here"
      ]
    },
    {
      "cell_type": "markdown",
      "metadata": {
        "id": "EM7whBJCYoAo"
      },
      "source": [
        "#### Chart - 3"
      ]
    },
    {
      "cell_type": "code",
      "execution_count": null,
      "metadata": {
        "id": "t6GMdE67YoAp"
      },
      "outputs": [],
      "source": [
        "# Chart - 3 visualization code"
      ]
    },
    {
      "cell_type": "markdown",
      "metadata": {
        "id": "fge-S5ZAYoAp"
      },
      "source": [
        "##### 1. Why did you pick the specific chart?"
      ]
    },
    {
      "cell_type": "markdown",
      "metadata": {
        "id": "5dBItgRVYoAp"
      },
      "source": [
        "Answer Here."
      ]
    },
    {
      "cell_type": "markdown",
      "metadata": {
        "id": "85gYPyotYoAp"
      },
      "source": [
        "##### 2. What is/are the insight(s) found from the chart?"
      ]
    },
    {
      "cell_type": "markdown",
      "metadata": {
        "id": "4jstXR6OYoAp"
      },
      "source": [
        "Answer Here"
      ]
    },
    {
      "cell_type": "markdown",
      "metadata": {
        "id": "RoGjAbkUYoAp"
      },
      "source": [
        "##### 3. Will the gained insights help creating a positive business impact?\n",
        "Are there any insights that lead to negative growth? Justify with specific reason."
      ]
    },
    {
      "cell_type": "markdown",
      "metadata": {
        "id": "zfJ8IqMcYoAp"
      },
      "source": [
        "Answer Here"
      ]
    },
    {
      "cell_type": "markdown",
      "metadata": {
        "id": "4Of9eVA-YrdM"
      },
      "source": [
        "#### Chart - 4"
      ]
    },
    {
      "cell_type": "code",
      "execution_count": null,
      "metadata": {
        "id": "irlUoxc8YrdO"
      },
      "outputs": [],
      "source": [
        "# Chart - 4 visualization code"
      ]
    },
    {
      "cell_type": "markdown",
      "metadata": {
        "id": "iky9q4vBYrdO"
      },
      "source": [
        "##### 1. Why did you pick the specific chart?"
      ]
    },
    {
      "cell_type": "markdown",
      "metadata": {
        "id": "aJRCwT6DYrdO"
      },
      "source": [
        "Answer Here."
      ]
    },
    {
      "cell_type": "markdown",
      "metadata": {
        "id": "F6T5p64dYrdO"
      },
      "source": [
        "##### 2. What is/are the insight(s) found from the chart?"
      ]
    },
    {
      "cell_type": "markdown",
      "metadata": {
        "id": "Xx8WAJvtYrdO"
      },
      "source": [
        "Answer Here"
      ]
    },
    {
      "cell_type": "markdown",
      "metadata": {
        "id": "y-Ehk30pYrdP"
      },
      "source": [
        "##### 3. Will the gained insights help creating a positive business impact?\n",
        "Are there any insights that lead to negative growth? Justify with specific reason."
      ]
    },
    {
      "cell_type": "markdown",
      "metadata": {
        "id": "jLNxxz7MYrdP"
      },
      "source": [
        "Answer Here"
      ]
    },
    {
      "cell_type": "markdown",
      "metadata": {
        "id": "bamQiAODYuh1"
      },
      "source": [
        "#### Chart - 5"
      ]
    },
    {
      "cell_type": "code",
      "execution_count": null,
      "metadata": {
        "id": "TIJwrbroYuh3"
      },
      "outputs": [],
      "source": [
        "# Chart - 5 visualization code"
      ]
    },
    {
      "cell_type": "markdown",
      "metadata": {
        "id": "QHF8YVU7Yuh3"
      },
      "source": [
        "##### 1. Why did you pick the specific chart?"
      ]
    },
    {
      "cell_type": "markdown",
      "metadata": {
        "id": "dcxuIMRPYuh3"
      },
      "source": [
        "Answer Here."
      ]
    },
    {
      "cell_type": "markdown",
      "metadata": {
        "id": "GwzvFGzlYuh3"
      },
      "source": [
        "##### 2. What is/are the insight(s) found from the chart?"
      ]
    },
    {
      "cell_type": "markdown",
      "metadata": {
        "id": "uyqkiB8YYuh3"
      },
      "source": [
        "Answer Here"
      ]
    },
    {
      "cell_type": "markdown",
      "metadata": {
        "id": "qYpmQ266Yuh3"
      },
      "source": [
        "##### 3. Will the gained insights help creating a positive business impact?\n",
        "Are there any insights that lead to negative growth? Justify with specific reason."
      ]
    },
    {
      "cell_type": "markdown",
      "metadata": {
        "id": "_WtzZ_hCYuh4"
      },
      "source": [
        "Answer Here"
      ]
    },
    {
      "cell_type": "markdown",
      "metadata": {
        "id": "OH-pJp9IphqM"
      },
      "source": [
        "#### Chart - 6"
      ]
    },
    {
      "cell_type": "code",
      "execution_count": null,
      "metadata": {
        "id": "kuRf4wtuphqN"
      },
      "outputs": [],
      "source": [
        "# Chart - 6 visualization code"
      ]
    },
    {
      "cell_type": "markdown",
      "metadata": {
        "id": "bbFf2-_FphqN"
      },
      "source": [
        "##### 1. Why did you pick the specific chart?"
      ]
    },
    {
      "cell_type": "markdown",
      "metadata": {
        "id": "loh7H2nzphqN"
      },
      "source": [
        "Answer Here."
      ]
    },
    {
      "cell_type": "markdown",
      "metadata": {
        "id": "_ouA3fa0phqN"
      },
      "source": [
        "##### 2. What is/are the insight(s) found from the chart?"
      ]
    },
    {
      "cell_type": "markdown",
      "metadata": {
        "id": "VECbqPI7phqN"
      },
      "source": [
        "Answer Here"
      ]
    },
    {
      "cell_type": "markdown",
      "metadata": {
        "id": "Seke61FWphqN"
      },
      "source": [
        "##### 3. Will the gained insights help creating a positive business impact?\n",
        "Are there any insights that lead to negative growth? Justify with specific reason."
      ]
    },
    {
      "cell_type": "markdown",
      "metadata": {
        "id": "DW4_bGpfphqN"
      },
      "source": [
        "Answer Here"
      ]
    },
    {
      "cell_type": "markdown",
      "metadata": {
        "id": "PIIx-8_IphqN"
      },
      "source": [
        "#### Chart - 7"
      ]
    },
    {
      "cell_type": "code",
      "execution_count": null,
      "metadata": {
        "id": "lqAIGUfyphqO"
      },
      "outputs": [],
      "source": [
        "# Chart - 7 visualization code"
      ]
    },
    {
      "cell_type": "markdown",
      "metadata": {
        "id": "t27r6nlMphqO"
      },
      "source": [
        "##### 1. Why did you pick the specific chart?"
      ]
    },
    {
      "cell_type": "markdown",
      "metadata": {
        "id": "iv6ro40sphqO"
      },
      "source": [
        "Answer Here."
      ]
    },
    {
      "cell_type": "markdown",
      "metadata": {
        "id": "r2jJGEOYphqO"
      },
      "source": [
        "##### 2. What is/are the insight(s) found from the chart?"
      ]
    },
    {
      "cell_type": "markdown",
      "metadata": {
        "id": "Po6ZPi4hphqO"
      },
      "source": [
        "Answer Here"
      ]
    },
    {
      "cell_type": "markdown",
      "metadata": {
        "id": "b0JNsNcRphqO"
      },
      "source": [
        "##### 3. Will the gained insights help creating a positive business impact?\n",
        "Are there any insights that lead to negative growth? Justify with specific reason."
      ]
    },
    {
      "cell_type": "markdown",
      "metadata": {
        "id": "xvSq8iUTphqO"
      },
      "source": [
        "Answer Here"
      ]
    },
    {
      "cell_type": "markdown",
      "metadata": {
        "id": "BZR9WyysphqO"
      },
      "source": [
        "#### Chart - 8"
      ]
    },
    {
      "cell_type": "code",
      "execution_count": null,
      "metadata": {
        "id": "TdPTWpAVphqO"
      },
      "outputs": [],
      "source": [
        "# Chart - 8 visualization code"
      ]
    },
    {
      "cell_type": "markdown",
      "metadata": {
        "id": "jj7wYXLtphqO"
      },
      "source": [
        "##### 1. Why did you pick the specific chart?"
      ]
    },
    {
      "cell_type": "markdown",
      "metadata": {
        "id": "Ob8u6rCTphqO"
      },
      "source": [
        "Answer Here."
      ]
    },
    {
      "cell_type": "markdown",
      "metadata": {
        "id": "eZrbJ2SmphqO"
      },
      "source": [
        "##### 2. What is/are the insight(s) found from the chart?"
      ]
    },
    {
      "cell_type": "markdown",
      "metadata": {
        "id": "mZtgC_hjphqO"
      },
      "source": [
        "Answer Here"
      ]
    },
    {
      "cell_type": "markdown",
      "metadata": {
        "id": "rFu4xreNphqO"
      },
      "source": [
        "##### 3. Will the gained insights help creating a positive business impact?\n",
        "Are there any insights that lead to negative growth? Justify with specific reason."
      ]
    },
    {
      "cell_type": "markdown",
      "metadata": {
        "id": "ey_0qi68phqO"
      },
      "source": [
        "Answer Here"
      ]
    },
    {
      "cell_type": "markdown",
      "metadata": {
        "id": "YJ55k-q6phqO"
      },
      "source": [
        "#### Chart - 9"
      ]
    },
    {
      "cell_type": "code",
      "execution_count": null,
      "metadata": {
        "id": "B2aS4O1ophqO"
      },
      "outputs": [],
      "source": [
        "# Chart - 9 visualization code"
      ]
    },
    {
      "cell_type": "markdown",
      "metadata": {
        "id": "gCFgpxoyphqP"
      },
      "source": [
        "##### 1. Why did you pick the specific chart?"
      ]
    },
    {
      "cell_type": "markdown",
      "metadata": {
        "id": "TVxDimi2phqP"
      },
      "source": [
        "Answer Here."
      ]
    },
    {
      "cell_type": "markdown",
      "metadata": {
        "id": "OVtJsKN_phqQ"
      },
      "source": [
        "##### 2. What is/are the insight(s) found from the chart?"
      ]
    },
    {
      "cell_type": "markdown",
      "metadata": {
        "id": "ngGi97qjphqQ"
      },
      "source": [
        "Answer Here"
      ]
    },
    {
      "cell_type": "markdown",
      "metadata": {
        "id": "lssrdh5qphqQ"
      },
      "source": [
        "##### 3. Will the gained insights help creating a positive business impact?\n",
        "Are there any insights that lead to negative growth? Justify with specific reason."
      ]
    },
    {
      "cell_type": "markdown",
      "metadata": {
        "id": "tBpY5ekJphqQ"
      },
      "source": [
        "Answer Here"
      ]
    },
    {
      "cell_type": "markdown",
      "metadata": {
        "id": "U2RJ9gkRphqQ"
      },
      "source": [
        "#### Chart - 10"
      ]
    },
    {
      "cell_type": "code",
      "execution_count": null,
      "metadata": {
        "id": "GM7a4YP4phqQ"
      },
      "outputs": [],
      "source": [
        "# Chart - 10 visualization code"
      ]
    },
    {
      "cell_type": "markdown",
      "metadata": {
        "id": "1M8mcRywphqQ"
      },
      "source": [
        "##### 1. Why did you pick the specific chart?"
      ]
    },
    {
      "cell_type": "markdown",
      "metadata": {
        "id": "8agQvks0phqQ"
      },
      "source": [
        "Answer Here."
      ]
    },
    {
      "cell_type": "markdown",
      "metadata": {
        "id": "tgIPom80phqQ"
      },
      "source": [
        "##### 2. What is/are the insight(s) found from the chart?"
      ]
    },
    {
      "cell_type": "markdown",
      "metadata": {
        "id": "Qp13pnNzphqQ"
      },
      "source": [
        "Answer Here"
      ]
    },
    {
      "cell_type": "markdown",
      "metadata": {
        "id": "JMzcOPDDphqR"
      },
      "source": [
        "##### 3. Will the gained insights help creating a positive business impact?\n",
        "Are there any insights that lead to negative growth? Justify with specific reason."
      ]
    },
    {
      "cell_type": "markdown",
      "metadata": {
        "id": "R4Ka1PC2phqR"
      },
      "source": [
        "Answer Here"
      ]
    },
    {
      "cell_type": "markdown",
      "metadata": {
        "id": "x-EpHcCOp1ci"
      },
      "source": [
        "#### Chart - 11"
      ]
    },
    {
      "cell_type": "code",
      "execution_count": null,
      "metadata": {
        "id": "mAQTIvtqp1cj"
      },
      "outputs": [],
      "source": [
        "# Chart - 11 visualization code"
      ]
    },
    {
      "cell_type": "markdown",
      "metadata": {
        "id": "X_VqEhTip1ck"
      },
      "source": [
        "##### 1. Why did you pick the specific chart?"
      ]
    },
    {
      "cell_type": "markdown",
      "metadata": {
        "id": "-vsMzt_np1ck"
      },
      "source": [
        "Answer Here."
      ]
    },
    {
      "cell_type": "markdown",
      "metadata": {
        "id": "8zGJKyg5p1ck"
      },
      "source": [
        "##### 2. What is/are the insight(s) found from the chart?"
      ]
    },
    {
      "cell_type": "markdown",
      "metadata": {
        "id": "ZYdMsrqVp1ck"
      },
      "source": [
        "Answer Here"
      ]
    },
    {
      "cell_type": "markdown",
      "metadata": {
        "id": "PVzmfK_Ep1ck"
      },
      "source": [
        "##### 3. Will the gained insights help creating a positive business impact?\n",
        "Are there any insights that lead to negative growth? Justify with specific reason."
      ]
    },
    {
      "cell_type": "markdown",
      "metadata": {
        "id": "druuKYZpp1ck"
      },
      "source": [
        "Answer Here"
      ]
    },
    {
      "cell_type": "markdown",
      "metadata": {
        "id": "n3dbpmDWp1ck"
      },
      "source": [
        "#### Chart - 12"
      ]
    },
    {
      "cell_type": "code",
      "execution_count": null,
      "metadata": {
        "id": "bwevp1tKp1ck"
      },
      "outputs": [],
      "source": [
        "# Chart - 12 visualization code"
      ]
    },
    {
      "cell_type": "markdown",
      "metadata": {
        "id": "ylSl6qgtp1ck"
      },
      "source": [
        "##### 1. Why did you pick the specific chart?"
      ]
    },
    {
      "cell_type": "markdown",
      "metadata": {
        "id": "m2xqNkiQp1ck"
      },
      "source": [
        "Answer Here."
      ]
    },
    {
      "cell_type": "markdown",
      "metadata": {
        "id": "ZWILFDl5p1ck"
      },
      "source": [
        "##### 2. What is/are the insight(s) found from the chart?"
      ]
    },
    {
      "cell_type": "markdown",
      "metadata": {
        "id": "x-lUsV2mp1ck"
      },
      "source": [
        "Answer Here"
      ]
    },
    {
      "cell_type": "markdown",
      "metadata": {
        "id": "M7G43BXep1ck"
      },
      "source": [
        "##### 3. Will the gained insights help creating a positive business impact?\n",
        "Are there any insights that lead to negative growth? Justify with specific reason."
      ]
    },
    {
      "cell_type": "markdown",
      "metadata": {
        "id": "5wwDJXsLp1cl"
      },
      "source": [
        "Answer Here"
      ]
    },
    {
      "cell_type": "markdown",
      "metadata": {
        "id": "Ag9LCva-p1cl"
      },
      "source": [
        "#### Chart - 13"
      ]
    },
    {
      "cell_type": "code",
      "execution_count": null,
      "metadata": {
        "id": "EUfxeq9-p1cl"
      },
      "outputs": [],
      "source": [
        "# Chart - 13 visualization code"
      ]
    },
    {
      "cell_type": "markdown",
      "metadata": {
        "id": "E6MkPsBcp1cl"
      },
      "source": [
        "##### 1. Why did you pick the specific chart?"
      ]
    },
    {
      "cell_type": "markdown",
      "metadata": {
        "id": "V22bRsFWp1cl"
      },
      "source": [
        "Answer Here."
      ]
    },
    {
      "cell_type": "markdown",
      "metadata": {
        "id": "2cELzS2fp1cl"
      },
      "source": [
        "##### 2. What is/are the insight(s) found from the chart?"
      ]
    },
    {
      "cell_type": "markdown",
      "metadata": {
        "id": "ozQPc2_Ip1cl"
      },
      "source": [
        "Answer Here"
      ]
    },
    {
      "cell_type": "markdown",
      "metadata": {
        "id": "3MPXvC8up1cl"
      },
      "source": [
        "##### 3. Will the gained insights help creating a positive business impact?\n",
        "Are there any insights that lead to negative growth? Justify with specific reason."
      ]
    },
    {
      "cell_type": "markdown",
      "metadata": {
        "id": "GL8l1tdLp1cl"
      },
      "source": [
        "Answer Here"
      ]
    },
    {
      "cell_type": "markdown",
      "metadata": {
        "id": "NC_X3p0fY2L0"
      },
      "source": [
        "#### Chart - 14 - Correlation Heatmap"
      ]
    },
    {
      "cell_type": "code",
      "execution_count": null,
      "metadata": {
        "id": "xyC9zolEZNRQ"
      },
      "outputs": [],
      "source": [
        "# Correlation Heatmap visualization code"
      ]
    },
    {
      "cell_type": "markdown",
      "metadata": {
        "id": "UV0SzAkaZNRQ"
      },
      "source": [
        "##### 1. Why did you pick the specific chart?"
      ]
    },
    {
      "cell_type": "markdown",
      "metadata": {
        "id": "DVPuT8LYZNRQ"
      },
      "source": [
        "Answer Here."
      ]
    },
    {
      "cell_type": "markdown",
      "metadata": {
        "id": "YPEH6qLeZNRQ"
      },
      "source": [
        "##### 2. What is/are the insight(s) found from the chart?"
      ]
    },
    {
      "cell_type": "markdown",
      "metadata": {
        "id": "bfSqtnDqZNRR"
      },
      "source": [
        "Answer Here"
      ]
    },
    {
      "cell_type": "markdown",
      "metadata": {
        "id": "q29F0dvdveiT"
      },
      "source": [
        "#### Chart - 15 - Pair Plot"
      ]
    },
    {
      "cell_type": "code",
      "execution_count": null,
      "metadata": {
        "id": "o58-TEIhveiU"
      },
      "outputs": [],
      "source": [
        "# Pair Plot visualization code"
      ]
    },
    {
      "cell_type": "markdown",
      "metadata": {
        "id": "EXh0U9oCveiU"
      },
      "source": [
        "##### 1. Why did you pick the specific chart?"
      ]
    },
    {
      "cell_type": "markdown",
      "metadata": {
        "id": "eMmPjTByveiU"
      },
      "source": [
        "Answer Here."
      ]
    },
    {
      "cell_type": "markdown",
      "metadata": {
        "id": "22aHeOlLveiV"
      },
      "source": [
        "##### 2. What is/are the insight(s) found from the chart?"
      ]
    },
    {
      "cell_type": "markdown",
      "metadata": {
        "id": "uPQ8RGwHveiV"
      },
      "source": [
        "Answer Here"
      ]
    },
    {
      "cell_type": "markdown",
      "metadata": {
        "id": "JcMwzZxoAimU"
      },
      "source": [
        "## **5. Solution to Business Objective**"
      ]
    },
    {
      "cell_type": "markdown",
      "metadata": {
        "id": "8G2x9gOozGDZ"
      },
      "source": [
        "#### What do you suggest the client to achieve Business Objective ?\n",
        "Explain Briefly."
      ]
    },
    {
      "cell_type": "markdown",
      "metadata": {
        "id": "pASKb0qOza21"
      },
      "source": [
        "Answer Here."
      ]
    },
    {
      "cell_type": "markdown",
      "metadata": {
        "id": "gCX9965dhzqZ"
      },
      "source": [
        "# **Conclusion**"
      ]
    },
    {
      "cell_type": "markdown",
      "metadata": {
        "id": "Fjb1IsQkh3yE"
      },
      "source": [
        "Write the conclusion here."
      ]
    },
    {
      "cell_type": "markdown",
      "metadata": {
        "id": "gIfDvo9L0UH2"
      },
      "source": [
        "### ***Hurrah! You have successfully completed your EDA Capstone Project !!!***"
      ]
    }
  ],
  "metadata": {
    "colab": {
      "collapsed_sections": [
        "vncDsAP0Gaoa",
        "FJNUwmbgGyua",
        "w6K7xa23Elo4",
        "yQaldy8SH6Dl",
        "PH-0ReGfmX4f",
        "mDgbUHAGgjLW",
        "O_i_v8NEhb9l",
        "HhfV-JJviCcP",
        "Y3lxredqlCYt",
        "3RnN4peoiCZX",
        "x71ZqKXriCWQ",
        "7hBIi_osiCS2",
        "JlHwYmJAmNHm",
        "35m5QtbWiB9F",
        "PoPl-ycgm1ru",
        "H0kj-8xxnORC",
        "nA9Y7ga8ng1Z",
        "PBTbrJXOngz2",
        "u3PMJOP6ngxN",
        "dauF4eBmngu3",
        "bKJF3rekwFvQ",
        "MSa1f5Uengrz",
        "GF8Ens_Soomf",
        "0wOQAZs5pc--",
        "K5QZ13OEpz2H",
        "lQ7QKXXCp7Bj",
        "448CDAPjqfQr",
        "KSlN3yHqYklG",
        "t6dVpIINYklI",
        "ijmpgYnKYklI",
        "-JiQyfWJYklI",
        "EM7whBJCYoAo",
        "fge-S5ZAYoAp",
        "85gYPyotYoAp",
        "RoGjAbkUYoAp",
        "4Of9eVA-YrdM",
        "iky9q4vBYrdO",
        "F6T5p64dYrdO",
        "y-Ehk30pYrdP",
        "bamQiAODYuh1",
        "QHF8YVU7Yuh3",
        "GwzvFGzlYuh3",
        "qYpmQ266Yuh3",
        "OH-pJp9IphqM",
        "bbFf2-_FphqN",
        "_ouA3fa0phqN",
        "Seke61FWphqN",
        "PIIx-8_IphqN",
        "t27r6nlMphqO",
        "r2jJGEOYphqO",
        "b0JNsNcRphqO",
        "BZR9WyysphqO",
        "jj7wYXLtphqO",
        "eZrbJ2SmphqO",
        "rFu4xreNphqO",
        "YJ55k-q6phqO",
        "gCFgpxoyphqP",
        "OVtJsKN_phqQ",
        "lssrdh5qphqQ",
        "U2RJ9gkRphqQ",
        "1M8mcRywphqQ",
        "tgIPom80phqQ",
        "JMzcOPDDphqR",
        "x-EpHcCOp1ci",
        "X_VqEhTip1ck",
        "8zGJKyg5p1ck",
        "PVzmfK_Ep1ck",
        "n3dbpmDWp1ck",
        "ylSl6qgtp1ck",
        "ZWILFDl5p1ck",
        "M7G43BXep1ck",
        "Ag9LCva-p1cl",
        "E6MkPsBcp1cl",
        "2cELzS2fp1cl",
        "3MPXvC8up1cl",
        "NC_X3p0fY2L0",
        "UV0SzAkaZNRQ",
        "YPEH6qLeZNRQ",
        "q29F0dvdveiT",
        "EXh0U9oCveiU",
        "22aHeOlLveiV",
        "JcMwzZxoAimU",
        "8G2x9gOozGDZ",
        "gCX9965dhzqZ",
        "gIfDvo9L0UH2"
      ],
      "private_outputs": true,
      "provenance": [],
      "include_colab_link": true
    },
    "kernelspec": {
      "display_name": "Python 3 (ipykernel)",
      "language": "python",
      "name": "python3"
    },
    "language_info": {
      "codemirror_mode": {
        "name": "ipython",
        "version": 3
      },
      "file_extension": ".py",
      "mimetype": "text/x-python",
      "name": "python",
      "nbconvert_exporter": "python",
      "pygments_lexer": "ipython3",
      "version": "3.11.4"
    }
  },
  "nbformat": 4,
  "nbformat_minor": 0
}